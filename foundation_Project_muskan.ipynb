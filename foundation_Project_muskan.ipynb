{
  "nbformat": 4,
  "nbformat_minor": 0,
  "metadata": {
    "colab": {
      "provenance": [],
      "authorship_tag": "ABX9TyOn7Th5OUIcphTilwlbdMwE",
      "include_colab_link": true
    },
    "kernelspec": {
      "name": "python3",
      "display_name": "Python 3"
    },
    "language_info": {
      "name": "python"
    }
  },
  "cells": [
    {
      "cell_type": "markdown",
      "metadata": {
        "id": "view-in-github",
        "colab_type": "text"
      },
      "source": [
        "<a href=\"https://colab.research.google.com/github/muskangirdhar11/Python-application-based-tasks/blob/main/foundation_Project_muskan.ipynb\" target=\"_parent\"><img src=\"https://colab.research.google.com/assets/colab-badge.svg\" alt=\"Open In Colab\"/></a>"
      ]
    },
    {
      "cell_type": "markdown",
      "source": [
        "##***Mandatory Project of Python***\n",
        "\n",
        "**presented by:**\n",
        "\n",
        "**Muskan Girdhar**\n",
        "(S5740)"
      ],
      "metadata": {
        "id": "WHuIJZarvtuN"
      }
    },
    {
      "cell_type": "markdown",
      "source": [
        " **Q1. You are working in a bank, and you have been given two lists of the employees who worked in 2021. Employees’ names in list 1 are Ramesh, Suresh, Mahesh, Ali, Jacob, and Saritha. List 2 contains the names of Ali, Mukesh, Mahesh, Jacob, Sai, and Sarita. Please write a program that helps to identify people who are common in both lists. Please do not use any in-built function.**"
      ],
      "metadata": {
        "id": "6n9QuM419iRq"
      }
    },
    {
      "cell_type": "code",
      "execution_count": null,
      "metadata": {
        "id": "UTcps_0L9KDL",
        "colab": {
          "base_uri": "https://localhost:8080/"
        },
        "outputId": "ae1a80a4-7c53-44cd-a516-2297793e9190"
      },
      "outputs": [
        {
          "output_type": "stream",
          "name": "stdout",
          "text": [
            "Names that are present in both lists are :  ['Mahesh', 'Ali', 'Jacob']\n"
          ]
        }
      ],
      "source": [
        "#list definition--A list is a data structure in Python that is a mutable, or changeable, ordered sequence of elements. we use [] brackets\n",
        "#append is used to add elements at the end of list\n",
        "\n",
        "l1=['Ramesh','Suresh', 'Mahesh', 'Ali', 'Jacob','Saritha']\n",
        "l2=['Ali', 'Mukesh', 'Mahesh', 'Jacob', 'Sai', 'Sarita']\n",
        "common_names=[]  #created empty list\n",
        "for i in l1:  #outer loop\n",
        "  if i in l2:  #inner loop\n",
        "    common_names.append(i)  #add elements at the last\n",
        "print('Names that are present in both lists are : ',common_names)\n"
      ]
    },
    {
      "cell_type": "markdown",
      "source": [
        "**Q2. While entering data, someone entered a few names as a common string “Ramesh Suresh Mohit”. Please write a program which separates all the names and converts them into a list. Once converted into a list, please write a program that adds their age.**\n",
        "\n",
        "**Ramesh:  25\n",
        "\n",
        "Suresh: 22\n",
        "\n",
        "Mohit: 26**"
      ],
      "metadata": {
        "id": "IlYOXCu2_HFw"
      }
    },
    {
      "cell_type": "code",
      "source": [
        "\n",
        "s=\"Ramesh Suresh Mohit\"\n",
        "list1=s.split(\" \")  ##converting string into the list\n",
        "print(list1)\n",
        "dict1={\"Ramesh\": 25, \"Suresh\": 22, \"Mohit\": 26} # dict is being used here---> value and key pair\n",
        "age=0\n",
        "for i in dict1:  #for loop is used to calculate the sum of ages\n",
        "  age = age+dict1[i]\n",
        "print(f\"Sum of their ages is {age}.\")\n",
        "\n"
      ],
      "metadata": {
        "colab": {
          "base_uri": "https://localhost:8080/"
        },
        "id": "Cm1hEz9N_odd",
        "outputId": "7054354d-4d19-44b4-efa1-be77ac3ba435"
      },
      "execution_count": null,
      "outputs": [
        {
          "output_type": "stream",
          "name": "stdout",
          "text": [
            "['Ramesh', 'Suresh', 'Mohit']\n",
            "Sum of their ages is 73.\n"
          ]
        }
      ]
    },
    {
      "cell_type": "markdown",
      "source": [
        "**Q3: You are working in a medical store. A patient came to your medical store and asked to buy 2 strips of paracetamol, 3 strips of azithromycin, and 5 strips of Vitamin C. One strip of paracetamol costs Rs 35, one strip of azithromycin costs Rs 49, and one strip of vitamin c costs Rs. 33. Patient gave you Rs 2000. Please tell us what is the total cost of each medicine, the total cost of all medicine, and how much money you refunded to the patient.**"
      ],
      "metadata": {
        "id": "QJr3JtXMA0nI"
      }
    },
    {
      "cell_type": "code",
      "source": [
        "#cost of each medicine\n",
        "paraC=35\n",
        "azithromycin=49\n",
        "vitamin_C=33\n",
        "\n",
        "# Quantity of each medicine\n",
        "p=2\n",
        "a=3\n",
        "v=5\n",
        "\n",
        "\n",
        "paraCost= paraC*p\n",
        "azethroMcost= a*azithromycin\n",
        "VitCost= v*vitamin_C\n",
        "total_cost = (paraCost+azethroMcost+VitCost)\n",
        "refund= (2000-total_cost)\n",
        "print(f\"Total cost of Paracetamol is: {paraCost}\")\n",
        "print(f\"Total cost of Azithromycin is: {azethroMcost}\")\n",
        "print(f\"Total cost of Vitamin C is: {VitCost}\")\n",
        "print(f\"The total cost of all medicines is: {total_cost}\")\n",
        "print(f\"Money refunded: {refund}\")"
      ],
      "metadata": {
        "colab": {
          "base_uri": "https://localhost:8080/"
        },
        "id": "bY46V4aRl8jW",
        "outputId": "167d6150-4a38-472d-e6e1-f65a9c57ef9c"
      },
      "execution_count": null,
      "outputs": [
        {
          "output_type": "stream",
          "name": "stdout",
          "text": [
            "Total cost of Paracetamol is: 70\n",
            "Total cost of Azithromycin is: 147\n",
            "Total cost of Vitamin C is: 165\n",
            "The total cost of all medicines is: 382\n",
            "Money refunded: 1618\n"
          ]
        }
      ]
    },
    {
      "cell_type": "markdown",
      "source": [
        "**Q4: Accept a sentence as input and find the number of vowels in it. Assume that the sentence has no punctuation marks. For example, I am learning python contains 6 vowels. This function should be applicable for all other different sentences.**"
      ],
      "metadata": {
        "id": "SiqXzK21lvfG"
      }
    },
    {
      "cell_type": "code",
      "source": [
        "\n",
        "#defining function to count num of vowels\n",
        "def num_vowels(str1):\n",
        "  count=0\n",
        "  vowel_list=[\"a\",\"e\",\"i\",\"o\",\"u\",\"A\",\"E\",\"I\",\"O\",\"U\"] #created list of vowels\n",
        "  for i in str1:\n",
        "    if i in vowel_list:\n",
        "      count = count+1\n",
        "  print(f\"Number of Vowels in the are: {count}\")\n",
        "\n",
        "str1=input(\"Enter your sentence: \")\n",
        "num_vowels(str1)"
      ],
      "metadata": {
        "id": "KVfObFdpAzEQ",
        "colab": {
          "base_uri": "https://localhost:8080/"
        },
        "outputId": "6a9eb60a-de95-4f1a-f756-00ac9c639596"
      },
      "execution_count": null,
      "outputs": [
        {
          "output_type": "stream",
          "name": "stdout",
          "text": [
            "Enter your sentence here: hello\n",
            "Number of Vowels in the are: 2\n"
          ]
        }
      ]
    },
    {
      "cell_type": "markdown",
      "source": [
        "**Q5: You have been appointed by the election commission to create a website. Your first task is to work on a program which tells candidates if they are eligible for voting or not.**\n",
        "If they are eligible, your output should be ‘Congrats! You are eligible’; otherwise, it should tell that you have to return after X number of years. The eligibility criteria for voting is 18 years.\n",
        "\n",
        "For example, If someone is 18 or above, your output should be ‘Congrats! You are eligible. If someone’s age is 15 years, it should print output as ‘return after 3 years."
      ],
      "metadata": {
        "id": "nQtlqIvPl_51"
      }
    },
    {
      "cell_type": "code",
      "source": [
        "age=int(input(\"Enter your age: \"))\n",
        "if(age>=18):\n",
        "  print(\"'Congrats! You are eligible'\")\n",
        "else:\n",
        "  years_to_wait=18-age\n",
        "  print(f\"'return after {years_to_wait} years'\")"
      ],
      "metadata": {
        "colab": {
          "base_uri": "https://localhost:8080/"
        },
        "id": "kdezJcBkmZvm",
        "outputId": "02eeb885-6100-42d0-f535-2791d2435789"
      },
      "execution_count": null,
      "outputs": [
        {
          "output_type": "stream",
          "name": "stdout",
          "text": [
            "Enter your age: 12\n",
            "'return after 6 years'\n"
          ]
        }
      ]
    },
    {
      "cell_type": "markdown",
      "source": [
        "**Q6: Given a list of integers, find the cumulative sum of the elements of the list and store them in another list.**\n",
        "\n",
        "**A = [1, 2, 3, 4, 5]**\n",
        "\n",
        "**Output: **\n",
        "\n",
        "**[1, 3, 6, 10, 15]**"
      ],
      "metadata": {
        "id": "9l227C06mauy"
      }
    },
    {
      "cell_type": "code",
      "source": [
        "A_list = [1, 2, 3, 4, 5]\n",
        "sum1=0\n",
        "cum_list = []\n",
        "for i in A_list:\n",
        "  sum1 = sum1 + i        #to find cumalative sum of the elements\n",
        "  cum_list.append(sum1)  #add elements in empty list\n",
        "print(cum_list)\n"
      ],
      "metadata": {
        "colab": {
          "base_uri": "https://localhost:8080/"
        },
        "id": "-Du66g4EmoaC",
        "outputId": "d3836976-27cc-4097-fb6c-bfda3f4fc60e"
      },
      "execution_count": null,
      "outputs": [
        {
          "output_type": "stream",
          "name": "stdout",
          "text": [
            "[1, 3, 6, 10, 15]\n"
          ]
        }
      ]
    },
    {
      "cell_type": "markdown",
      "source": [
        "**Q7WAP to encode a message entered by user as per below conditions:**\n",
        "\n",
        "**for every word in the sentence, **\n",
        "\n",
        "**1. If the word starts with a vowel, encode it as the first and last letter of the word.**\n",
        "\n",
        "2**. If the word starts with a consonant, remove all vowels from it**.\n",
        "\n",
        "**Ensure the case insensitive comparisons/checks are performed.** ]\n",
        "\n",
        "**Please enter your text:The quick brown fox used to sleep inside this box**\n",
        "\n",
        "**Encoded Msg: Th qck brwn fx ud t slp ie ths bx**"
      ],
      "metadata": {
        "id": "jrupoGMmmpRv"
      }
    },
    {
      "cell_type": "code",
      "source": [
        "l = input(\"Please enter your text: \").split()   # Directly splitting string input as a list\n",
        "\n",
        "v = \"AEIOUaeiou\"              # for checking vowels\n",
        "\n",
        "s = \"\"                         # for getting the encoded string\n",
        "\n",
        "for i in l:\n",
        "    if i[0] in v:                 # If the word starts with a vowel, encode it as the first and last letter of the word.\n",
        "        s += i[0] + i[-1] + \" \"\n",
        "    else:                          # If the word starts with a consonant, remove all vowels from it.\n",
        "        for j in i:\n",
        "            if j not in v:\n",
        "                s += j\n",
        "        s += \" \"\n",
        "print(\"Encoded Msg:\", s) # Printing the encoded message"
      ],
      "metadata": {
        "id": "Xz_UBmm1nU_g",
        "colab": {
          "base_uri": "https://localhost:8080/"
        },
        "outputId": "d7f45699-4800-4349-8496-cc5e88e32dfd"
      },
      "execution_count": null,
      "outputs": [
        {
          "output_type": "stream",
          "name": "stdout",
          "text": [
            "Please enter your text: the quick brown fox used to sleep inside this box\n",
            "Encoded Msg: th qck brwn fx ud t slp ie ths bx \n"
          ]
        }
      ]
    },
    {
      "cell_type": "code",
      "source": [
        "72 + True\n"
      ],
      "metadata": {
        "id": "vHSemtVj5_OY",
        "outputId": "c3289a0c-89b2-4812-e5dc-69fc138732cc",
        "colab": {
          "base_uri": "https://localhost:8080/"
        }
      },
      "execution_count": null,
      "outputs": [
        {
          "output_type": "execute_result",
          "data": {
            "text/plain": [
              "73"
            ]
          },
          "metadata": {},
          "execution_count": 3
        }
      ]
    },
    {
      "cell_type": "markdown",
      "source": [
        "**Q8:Write a program to implement run length encoding of a string**\n",
        "\n",
        "**RLE:Consecutive repetition of a character has to be replaced with the count of occurrences and the character.**\n",
        "\n",
        "**Enter your string :aabbbccdddae**\n",
        "\n",
        "**Encoded: 2a3b2c3d1a1e**"
      ],
      "metadata": {
        "id": "P6v4LscOndaJ"
      }
    },
    {
      "cell_type": "code",
      "source": [
        "s1 = input(\"Enter your string : \")  # First string that takes the input\n",
        "\n",
        "s2 = \"\"  # Second string that appends the encoding\n",
        "\n",
        "c = 1    # Initializing the counter that will count each repitition of a character in string\n",
        "\n",
        "s1 += \" \" # For convenience\n",
        "\n",
        "for i in range(1, len(s1)):# iterating through the string and starting from second element in the string\n",
        "    if s1[i] == s1[i - 1]: # checking if the current element and previous element of a string is same or not\n",
        "        c += 1\n",
        "    else:\n",
        "        s2 += str(c) + s1[i - 1]\n",
        "        c = 1\n",
        "\n",
        "print(\"Encoded:\", s2)# Printing the final result"
      ],
      "metadata": {
        "id": "dn4J14R6nu6K",
        "colab": {
          "base_uri": "https://localhost:8080/"
        },
        "outputId": "7d9d169b-743b-4f18-aa4c-9b9b789f61ab"
      },
      "execution_count": null,
      "outputs": [
        {
          "output_type": "stream",
          "name": "stdout",
          "text": [
            "Enter your string : aabbbccdddae\n",
            "Encoded: 2a3b2c3d1a1e\n"
          ]
        }
      ]
    }
  ]
}